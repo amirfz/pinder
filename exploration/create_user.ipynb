{
 "cells": [
  {
   "cell_type": "code",
   "execution_count": 19,
   "metadata": {
    "collapsed": false
   },
   "outputs": [],
   "source": [
    "import pymongo\n",
    "from pymongo import MongoClient\n",
    "\n",
    "import getpass\n",
    "\n",
    "import base64"
   ]
  },
  {
   "cell_type": "markdown",
   "metadata": {},
   "source": [
    "# connecting to the database"
   ]
  },
  {
   "cell_type": "code",
   "execution_count": 36,
   "metadata": {
    "collapsed": false
   },
   "outputs": [
    {
     "data": {
      "text/plain": [
       "0"
      ]
     },
     "execution_count": 36,
     "metadata": {},
     "output_type": "execute_result"
    }
   ],
   "source": [
    "client = MongoClient('localhost:27017')\n",
    "db = client.arXivDB\n",
    "db.users.count()"
   ]
  },
  {
   "cell_type": "code",
   "execution_count": 49,
   "metadata": {
    "collapsed": false
   },
   "outputs": [
    {
     "name": "stdout",
     "output_type": "stream",
     "text": [
      "choose username: adrian\n",
      "choose pin: ········\n",
      "the total number of users is: 9\n"
     ]
    }
   ],
   "source": [
    "while True:\n",
    "    user = {}\n",
    "    user['username'] = input('choose username: ').lower()\n",
    "    user['pin'] = base64.b64encode(bytes(str(getpass.getpass('choose pin: ')), encoding=\"UTF-8\"))\n",
    "    if db.users.find({'username': user['username']}).count():\n",
    "        print('the username already exists, try a new one')\n",
    "    else:\n",
    "        db.users.insert_one(user)\n",
    "        username = None\n",
    "        pin = None\n",
    "        break\n",
    "print('the total number of users is: {}'.format(db.users.count()))"
   ]
  },
  {
   "cell_type": "code",
   "execution_count": 44,
   "metadata": {
    "collapsed": false
   },
   "outputs": [
    {
     "data": {
      "text/plain": [
       "[{'_id': ObjectId('581329755284fc092c69c1ab'),\n",
       "  'pin': b'MTIzNA==',\n",
       "  'username': 'amir'},\n",
       " {'_id': ObjectId('581350715284fc092c69c1ac'),\n",
       "  'pin': b'MTIzNA==',\n",
       "  'username': 'gil'},\n",
       " {'_id': ObjectId('5813507a5284fc092c69c1ad'),\n",
       "  'pin': b'MTIzNA==',\n",
       "  'username': 'william'},\n",
       " {'_id': ObjectId('5813508d5284fc092c69c1ae'),\n",
       "  'pin': b'MTIzNA==',\n",
       "  'username': 'kris'}]"
      ]
     },
     "execution_count": 44,
     "metadata": {},
     "output_type": "execute_result"
    }
   ],
   "source": [
    "list(db.users.find({}))"
   ]
  },
  {
   "cell_type": "code",
   "execution_count": null,
   "metadata": {
    "collapsed": true
   },
   "outputs": [],
   "source": []
  }
 ],
 "metadata": {
  "anaconda-cloud": {},
  "kernelspec": {
   "display_name": "Python [default]",
   "language": "python",
   "name": "python3"
  },
  "language_info": {
   "codemirror_mode": {
    "name": "ipython",
    "version": 3
   },
   "file_extension": ".py",
   "mimetype": "text/x-python",
   "name": "python",
   "nbconvert_exporter": "python",
   "pygments_lexer": "ipython3",
   "version": "3.5.2"
  }
 },
 "nbformat": 4,
 "nbformat_minor": 1
}
