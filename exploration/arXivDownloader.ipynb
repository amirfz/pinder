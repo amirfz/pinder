{
 "cells": [
  {
   "cell_type": "markdown",
   "metadata": {
    "collapsed": true
   },
   "source": [
    "\"\"\"\"\n",
    "    python_arXiv_paging_example.py\n",
    "\n",
    "    This script dumps metadata from arxiv API and stores it\n",
    "    in a mongodb database. There is a 3 seconds wait between api calls.\n",
    "\n",
    "    Please see the documentation at \n",
    "    http://export.arxiv.org/api_help/docs/user-manual.html\n",
    "    for more information, or email the arXiv api \n",
    "    mailing list at arxiv-api@googlegroups.com.\n",
    "\"\"\"\""
   ]
  },
  {
   "cell_type": "code",
   "execution_count": 5,
   "metadata": {
    "collapsed": true
   },
   "outputs": [],
   "source": [
    "import urllib.request\n",
    "import time\n",
    "import feedparser\n",
    "\n",
    "from pymongo import MongoClient"
   ]
  },
  {
   "cell_type": "code",
   "execution_count": 6,
   "metadata": {
    "collapsed": false
   },
   "outputs": [],
   "source": [
    "# Base api query url\n",
    "base_url = 'http://export.arxiv.org/api/query?';\n",
    "\n",
    "# initiating mongo db\n",
    "client = MongoClient('localhost:27017')\n",
    "db = client.arXivDB"
   ]
  },
  {
   "cell_type": "code",
   "execution_count": 7,
   "metadata": {
    "collapsed": false
   },
   "outputs": [
    {
     "name": "stdout",
     "output_type": "stream",
     "text": [
      "Searching arXiv for cat:quant-ph\n",
      "Found a total of 76175 entries\n"
     ]
    }
   ],
   "source": [
    "search_query='cat:quant-ph'\n",
    "start=db.arXivfeeds.count()\n",
    "results_per_iteration=2000\n",
    "wait_time=3\n",
    "no_retries = 10\n",
    "\n",
    "# fetching the total number of results\n",
    "query = 'search_query=%s&start=%i&max_results=%i' % (search_query, 0, 1)\n",
    "response = urllib.request.urlopen(base_url+query).read()\n",
    "feed = feedparser.parse(response)\n",
    "total_results = int(feed.feed.opensearch_totalresults)\n",
    "# total_results = 100\n",
    "\n",
    "print('Searching arXiv for {}'.format(search_query))\n",
    "print('Found a total of {} entries'.format(total_results))"
   ]
  },
  {
   "cell_type": "code",
   "execution_count": 10,
   "metadata": {
    "collapsed": false
   },
   "outputs": [
    {
     "data": {
      "text/plain": [
       "b'<?xml version=\"1.0\" encoding=\"UTF-8\"?>\\n<feed xmlns=\"http://www.w3.org/2005/Atom\">\\n  <link href=\"http://arxiv.org/api/query?search_query%3Dcat%3Aquant-ph%26id_list%3D%26start%3D0%26max_results%3D1\" rel=\"self\" type=\"application/atom+xml\"/>\\n  <title type=\"html\">ArXiv Query: search_query=cat:quant-ph&amp;id_list=&amp;start=0&amp;max_results=1</title>\\n  <id>http://arxiv.org/api/mHFE3HizSfzBReI+cza2RZg8lQQ</id>\\n  <updated>2016-10-27T00:00:00-04:00</updated>\\n  <opensearch:totalResults xmlns:opensearch=\"http://a9.com/-/spec/opensearch/1.1/\">76175</opensearch:totalResults>\\n  <opensearch:startIndex xmlns:opensearch=\"http://a9.com/-/spec/opensearch/1.1/\">0</opensearch:startIndex>\\n  <opensearch:itemsPerPage xmlns:opensearch=\"http://a9.com/-/spec/opensearch/1.1/\">1</opensearch:itemsPerPage>\\n  <entry>\\n    <id>http://arxiv.org/abs/quant-ph/9412001v1</id>\\n    <updated>1994-12-21T09:22:43Z</updated>\\n    <published>1994-12-21T09:22:43Z</published>\\n    <title>Photon Statistics of a Two-Mode Squeezed Vacuum</title>\\n    <summary>  We investigate the general case of the photon distribution of a two-mode\\nsqueezed vacuum and show that the distribution of photons among the two modes\\ndepends on four parameters: two squeezing parameters, the relative phase\\nbetween the two oscillators and their spatial orientation. The distribution of\\nthe total number of photons depends only on the two squeezing parameters. We\\nderive analytical expressions and present pictures for both distributions.\\n</summary>\\n    <author>\\n      <name>G. Schrade</name>\\n    </author>\\n    <author>\\n      <name>V. M. Akulin</name>\\n    </author>\\n    <author>\\n      <name>W. P. Schleich</name>\\n    </author>\\n    <author>\\n      <name>V. I. Man\\'ko</name>\\n    </author>\\n    <arxiv:doi xmlns:arxiv=\"http://arxiv.org/schemas/atom\">10.1103/PhysRevA.48.2398</arxiv:doi>\\n    <link title=\"doi\" href=\"http://dx.doi.org/10.1103/PhysRevA.48.2398\" rel=\"related\"/>\\n    <arxiv:comment xmlns:arxiv=\"http://arxiv.org/schemas/atom\">LATEX, 6 pages, Contribution to the third International Workshop on\\n  Squeezed States and Uncertainty Relations, Baltimore, August 1993</arxiv:comment>\\n    <arxiv:journal_ref xmlns:arxiv=\"http://arxiv.org/schemas/atom\">Phys.Rev.A48:2398-2406,1993</arxiv:journal_ref>\\n    <link href=\"http://arxiv.org/abs/quant-ph/9412001v1\" rel=\"alternate\" type=\"text/html\"/>\\n    <link title=\"pdf\" href=\"http://arxiv.org/pdf/quant-ph/9412001v1\" rel=\"related\" type=\"application/pdf\"/>\\n    <arxiv:primary_category xmlns:arxiv=\"http://arxiv.org/schemas/atom\" term=\"quant-ph\" scheme=\"http://arxiv.org/schemas/atom\"/>\\n    <category term=\"quant-ph\" scheme=\"http://arxiv.org/schemas/atom\"/>\\n  </entry>\\n</feed>\\n'"
      ]
     },
     "execution_count": 10,
     "metadata": {},
     "output_type": "execute_result"
    }
   ],
   "source": [
    "response"
   ]
  },
  {
   "cell_type": "code",
   "execution_count": 27,
   "metadata": {
    "collapsed": false
   },
   "outputs": [
    {
     "name": "stdout",
     "output_type": "stream",
     "text": [
      "Searching arXiv for cat:quant-ph\n",
      "Found a total of 76091 entries\n",
      "Results 50000 to 52000\n",
      "reading from the API failed, retrying in 3 seconds\n",
      "reading from the API failed, retrying in 9 seconds\n",
      "reading from the API failed, retrying in 27 seconds\n",
      "reading from the API failed, retrying in 81 seconds\n",
      "reading from the API failed, retrying in 243 seconds\n"
     ]
    },
    {
     "ename": "KeyboardInterrupt",
     "evalue": "",
     "output_type": "error",
     "traceback": [
      "\u001b[0;31m---------------------------------------------------------------------------\u001b[0m",
      "\u001b[0;31mKeyboardInterrupt\u001b[0m                         Traceback (most recent call last)",
      "\u001b[0;32m<ipython-input-27-c0c5ca39e1c0>\u001b[0m in \u001b[0;36m<module>\u001b[0;34m()\u001b[0m\n\u001b[1;32m     42\u001b[0m         \u001b[1;32melse\u001b[0m\u001b[1;33m:\u001b[0m\u001b[1;33m\u001b[0m\u001b[0m\n\u001b[1;32m     43\u001b[0m             \u001b[0mprint\u001b[0m\u001b[1;33m(\u001b[0m\u001b[1;34m'reading from the API failed, retrying in {} seconds'\u001b[0m\u001b[1;33m.\u001b[0m\u001b[0mformat\u001b[0m\u001b[1;33m(\u001b[0m\u001b[0mwait_time\u001b[0m\u001b[1;33m**\u001b[0m\u001b[1;33m(\u001b[0m\u001b[0mj\u001b[0m\u001b[1;33m+\u001b[0m\u001b[1;36m1\u001b[0m\u001b[1;33m)\u001b[0m\u001b[1;33m)\u001b[0m\u001b[1;33m)\u001b[0m\u001b[1;33m\u001b[0m\u001b[0m\n\u001b[0;32m---> 44\u001b[0;31m             \u001b[0mtime\u001b[0m\u001b[1;33m.\u001b[0m\u001b[0msleep\u001b[0m\u001b[1;33m(\u001b[0m\u001b[0mwait_time\u001b[0m\u001b[1;33m**\u001b[0m\u001b[1;33m(\u001b[0m\u001b[0mj\u001b[0m\u001b[1;33m+\u001b[0m\u001b[1;36m1\u001b[0m\u001b[1;33m)\u001b[0m\u001b[1;33m)\u001b[0m\u001b[1;33m\u001b[0m\u001b[0m\n\u001b[0m\u001b[1;32m     45\u001b[0m \u001b[1;33m\u001b[0m\u001b[0m\n\u001b[1;32m     46\u001b[0m     \u001b[1;31m# playing nice and sleeping a bit before next call\u001b[0m\u001b[1;33m\u001b[0m\u001b[1;33m\u001b[0m\u001b[0m\n",
      "\u001b[0;31mKeyboardInterrupt\u001b[0m: "
     ]
    }
   ],
   "source": [
    "for i in range(start,total_results,results_per_iteration):\n",
    "\n",
    "    print(\"Results {} to {}\".format(i, i+results_per_iteration))\n",
    "\n",
    "    query = 'search_query=%s&start=%i&max_results=%i' % (search_query,\n",
    "                                                         i,\n",
    "                                                         results_per_iteration)\n",
    "\n",
    "    for j in range(no_retries):\n",
    "        # perform a GET request using the base_url and query\n",
    "        response = urllib.request.urlopen(base_url+query).read()\n",
    "\n",
    "        # parse the response using feedparser\n",
    "        feed = feedparser.parse(response)\n",
    "\n",
    "        if feed.entries:\n",
    "            dates = [entry.published for entry in feed.entries]\n",
    "            print('entries from {} to {}'.format(dates[0], dates[-1]))\n",
    "\n",
    "            # dumping the entries into mongo db\n",
    "            db.arXivfeeds.insert_many(feed.entries)\n",
    "            \n",
    "            print('Read successful. Sleeping for %i seconds' % wait_time) \n",
    "            time.sleep(wait_time)\n",
    "            break\n",
    "        else:\n",
    "            print('reading from the API failed, retrying in {} seconds'.format(wait_time**(j+1)))\n",
    "            time.sleep(wait_time**(j+1))\n",
    "\n",
    "    # playing nice and sleeping a bit before next call\n",
    "    # to the api again!\n",
    "\n",
    "print('download and dump done!')   "
   ]
  },
  {
   "cell_type": "code",
   "execution_count": null,
   "metadata": {
    "collapsed": true
   },
   "outputs": [],
   "source": []
  }
 ],
 "metadata": {
  "anaconda-cloud": {},
  "kernelspec": {
   "display_name": "Python [default]",
   "language": "python",
   "name": "python3"
  },
  "language_info": {
   "codemirror_mode": {
    "name": "ipython",
    "version": 3
   },
   "file_extension": ".py",
   "mimetype": "text/x-python",
   "name": "python",
   "nbconvert_exporter": "python",
   "pygments_lexer": "ipython3",
   "version": "3.5.2"
  }
 },
 "nbformat": 4,
 "nbformat_minor": 1
}
